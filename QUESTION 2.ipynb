{
 "cells": [
  {
   "cell_type": "markdown",
   "id": "87951ddc",
   "metadata": {},
   "source": [
    "# Q2: REVERSE STRING"
   ]
  },
  {
   "cell_type": "code",
   "execution_count": 2,
   "id": "92c802a6",
   "metadata": {},
   "outputs": [
    {
     "name": "stdout",
     "output_type": "stream",
     "text": [
      "ENTER THE STRING:  1234abcd\n",
      "entered string is:   1234abcd\n",
      "reversed string is:  dcba4321\n"
     ]
    }
   ],
   "source": [
    "def reverse(given_string):\n",
    "    reversed_string=\"\"\n",
    "    for i in given_string:\n",
    "        reversed_string=i+reversed_string\n",
    "    print(\"reversed string is: \",reversed_string)\n",
    "    \n",
    "given_string=input(\"ENTER THE STRING:  \")\n",
    "print(\"entered string is:  \",given_string)\n",
    "\n",
    "reverse(given_string)\n"
   ]
  },
  {
   "cell_type": "code",
   "execution_count": null,
   "id": "33500e0f",
   "metadata": {},
   "outputs": [],
   "source": []
  }
 ],
 "metadata": {
  "kernelspec": {
   "display_name": "Python 3 (ipykernel)",
   "language": "python",
   "name": "python3"
  },
  "language_info": {
   "codemirror_mode": {
    "name": "ipython",
    "version": 3
   },
   "file_extension": ".py",
   "mimetype": "text/x-python",
   "name": "python",
   "nbconvert_exporter": "python",
   "pygments_lexer": "ipython3",
   "version": "3.10.2"
  }
 },
 "nbformat": 4,
 "nbformat_minor": 5
}
